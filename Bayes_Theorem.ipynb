{
  "nbformat": 4,
  "nbformat_minor": 0,
  "metadata": {
    "colab": {
      "name": "Bayes_Theorem.ipynb",
      "version": "0.3.2",
      "provenance": [],
      "include_colab_link": true
    },
    "kernelspec": {
      "name": "python3",
      "display_name": "Python 3"
    }
  },
  "cells": [
    {
      "cell_type": "markdown",
      "metadata": {
        "id": "view-in-github",
        "colab_type": "text"
      },
      "source": [
        "<a href=\"https://colab.research.google.com/github/mdriaz62/Combination_Permutation/blob/master/Bayes_Theorem.ipynb\" target=\"_parent\"><img src=\"https://colab.research.google.com/assets/colab-badge.svg\" alt=\"Open In Colab\"/></a>"
      ]
    },
    {
      "metadata": {
        "id": "8fEZnmkUS8Zc",
        "colab_type": "text"
      },
      "cell_type": "markdown",
      "source": [
        "# Bayes Theorm Problem\n",
        "In a TV Game show, a contestant selects one of three doors; behind one of the doors there is a prize,\n",
        "and behind the other two there are no prizes. After the contestant selects a door, the game-show host opens one of the remaining doors, and reveals that there is no prize behind it. The host then asks the contestant whether he/she wants to SWITCH its choice to the other unopened door, or STICK to its original choice.\n",
        "Is it probabilistically advantageous for the contestant to SWITCH doors, or is the probability of winning the prize the same whether he/she STICKs or SWITCHes? (Assume that the host selects a door to open, from those available, with equal probability).\n",
        "## Solution\n",
        "Without loss of generality, let events A, B, C correspond to the prize being behind the selected, opened, and remaining door respectively, and let EB denote the event that the host opens door B. \n",
        "\n",
        "We want to compare P(A|EB) (STICK) with P(C|EB) (SWITCH). \n",
        "\n",
        "Now:\n",
        "\n",
        "```\n",
        "P(A) = P(B) = P(C)=1/3\n",
        "```\n",
        "and we are given that:\n",
        "\n",
        "\n",
        "```\n",
        "P(EB|A)=1/2, P(EB|B) = 0 and P(EB|C) = 1\n",
        "```\n",
        "We know the general form of Bayes Theorem:\n",
        "\n",
        "\n",
        "```\n",
        "P(A|B)=(P(B|A)*P(A))/P(B) and/or \n",
        "P(B|A)=(P(A|B)*P(B))/P(A)\n",
        "```"
      ]
    },
    {
      "metadata": {
        "id": "R-qEXemuG5mt",
        "colab_type": "text"
      },
      "cell_type": "markdown",
      "source": [
        "##Code for the Example"
      ]
    },
    {
      "metadata": {
        "id": "jqDigjoxy0ct",
        "colab_type": "code",
        "colab": {
          "base_uri": "https://localhost:8080/",
          "height": 68
        },
        "outputId": "a0ddddd8-8f35-4de6-8fe5-53ba97a0c403"
      },
      "cell_type": "code",
      "source": [
        "import math\n",
        "PA=PB=PC=1/3; #P(A)=P(B)=P(C)\n",
        "P_EbA=1/2; #P(EB|A)\n",
        "P_EbB=0; #P(EB|B)\n",
        "P_EbC=1; #P(EB|C)\n",
        "P_Eb=(P_EbA*PA)+(P_EbB*PB)+(P_EbC*PC); #P(EB)=P(EB|A)*P(A)+P(EB|B)*P(B)+P(EB|C)*PC\n",
        "P_AEb=(P_EbA*PA)/P_Eb; #P(A|EB)=(P(EB|A)*P(A))/P(EB) Stick\n",
        "P_CEb=(P_EbC*PC)/P_Eb; #P(C|EB)=(P(EB|C)*P(C))/P(EB) Switch\n",
        "print('P(A|EB\\f)=',P_AEb,'Stick');\n",
        "print('P(C|EB\\f)=',P_CEb,'Switch')\n",
        "print('We obtained Switch probability more than Stick probability, so it is advantageous to switch.')\n"
      ],
      "execution_count": 9,
      "outputs": [
        {
          "output_type": "stream",
          "text": [
            "P(A|EB\f)= 0.3333333333333333 Stick\n",
            "P(C|EB\f)= 0.6666666666666666 Switch\n",
            "We obtained Switch probability more than Stick probability, so it is advantageous to switch.\n"
          ],
          "name": "stdout"
        }
      ]
    }
  ]
}