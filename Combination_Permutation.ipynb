{
  "nbformat": 4,
  "nbformat_minor": 0,
  "metadata": {
    "colab": {
      "name": "Combination_Permutation.ipynb",
      "version": "0.3.2",
      "provenance": [],
      "include_colab_link": true
    },
    "kernelspec": {
      "name": "python3",
      "display_name": "Python 3"
    }
  },
  "cells": [
    {
      "cell_type": "markdown",
      "metadata": {
        "id": "view-in-github",
        "colab_type": "text"
      },
      "source": [
        "<a href=\"https://colab.research.google.com/github/mdriaz62/Combination_Permutation/blob/master/Combination_Permutation.ipynb\" target=\"_parent\"><img src=\"https://colab.research.google.com/assets/colab-badge.svg\" alt=\"Open In Colab\"/></a>"
      ]
    },
    {
      "metadata": {
        "id": "XJy4KI4CihIv",
        "colab_type": "text"
      },
      "cell_type": "markdown",
      "source": [
        "#Combination Example\n",
        "In a class, there are 27 boys and 14 girls. The teacher wants to select 1\n",
        "boy and 1 girl to represent the class for a function. In how many ways can the teacher\n",
        "make this selection?"
      ]
    },
    {
      "metadata": {
        "id": "y8bqAnWziwgv",
        "colab_type": "text"
      },
      "cell_type": "markdown",
      "source": [
        "##Solution\n",
        "Here the teacher is to perform two operations:\n",
        "\n",
        "\n",
        "1.   Selecting a boy from among the 27 boys and\n",
        "2.   Selecting a girl from among 14 girls\n",
        "\n",
        "The first of these can be done in 27 ways and second can be performed in\n",
        "14 ways. By the fundamental principle of counting, the required number of ways is\n",
        "27 × 14 = 378\n"
      ]
    },
    {
      "metadata": {
        "id": "ZkMS7TzNjG3T",
        "colab_type": "text"
      },
      "cell_type": "markdown",
      "source": [
        "#Writing the Code\n",
        "In the program, you can enter the total number of boys and total number of girls existed in the class. Also, you will enter the number of boys and number of girls who can be selected to present in the class. The output will be the probable number of combinations for the selection of numbers of boys and girls. "
      ]
    },
    {
      "metadata": {
        "id": "OcPaJmxPj3kT",
        "colab_type": "code",
        "colab": {}
      },
      "cell_type": "code",
      "source": [
        "import math\n",
        "print(\"Combination Example\")\n",
        "option = str('y')\n",
        "while option == 'y':\n",
        "    print(\"Please input number of boys in the class\")\n",
        "    boys = int(input())\n",
        "    if boys < 0:\n",
        "        print(\" Invalid Entry\")\n",
        "        break\n",
        "    print(\"Please input number girls in class\")\n",
        "    girls = int(input())\n",
        "    if girls < 0:\n",
        "        print(\" Invalid Entry\")\n",
        "        break\n",
        "    print(\"Please enter number of boys the teacher should select for presentation\")\n",
        "    sboys= int(input())\n",
        "    if sboys > boys:\n",
        "      print(\"Number of boys which are selected for presentation cannot exceed total number of boys\")\n",
        "      break\n",
        "    print(\"Please enter number of girls the teacher should select for presentation\")  \n",
        "    sgirls=int(input())\n",
        "    if sgirls > girls:\n",
        "      print(\"Number of girls which are selected for presentation cannot exceed total number of girls\")  \n",
        "      break\n",
        "    x=boys-sboys \n",
        "    y=girls-sgirls\n",
        "    a=math.factorial(sboys)\n",
        "    b=math.factorial(sgirls)\n",
        "    c=math.factorial(boys)\n",
        "    d=math.factorial(x)\n",
        "    e=math.factorial(y)\n",
        "    f=math.factorial(girls)\n",
        "    r1=c/(a*d)\n",
        "    r2=f/(e*b)\n",
        "    r3=r1*r2\n",
        "    print(\"The required number of ways to select number of boys and and girls for presentation is:\", r3)\n",
        "    print(\"If you want to continue enter please enter again\")"
      ],
      "execution_count": 0,
      "outputs": []
    },
    {
      "metadata": {
        "id": "MEsnf-_pl9TR",
        "colab_type": "text"
      },
      "cell_type": "markdown",
      "source": [
        "#Permutation Example\n",
        "We can see the permutation of five input numbers from the user."
      ]
    },
    {
      "metadata": {
        "id": "z7l9AZxkq50c",
        "colab_type": "text"
      },
      "cell_type": "markdown",
      "source": [
        "##Writing the Code\n",
        "In the code the itertools have been used for applying the permutation"
      ]
    },
    {
      "metadata": {
        "id": "Vb5wq4qDmgaK",
        "colab_type": "code",
        "colab": {}
      },
      "cell_type": "code",
      "source": [
        "from itertools import permutations\n",
        "print(\"Please enter only numbers\")\n",
        "print(\"Please the first character\")\n",
        "a=int(input())\n",
        "print(\"Please the second character\")\n",
        "b=int(input())\n",
        "print(\"Please the third character\")\n",
        "c=int(input())\n",
        "print(\"Please the fourth character\")\n",
        "d=int(input())\n",
        "print(\"Please the fifth character\")\n",
        "e=int(input())\n",
        "perm = permutations([a, b, c, d, e])\n",
        "for i in list(perm): \n",
        "    print (i)"
      ],
      "execution_count": 0,
      "outputs": []
    }
  ]
}