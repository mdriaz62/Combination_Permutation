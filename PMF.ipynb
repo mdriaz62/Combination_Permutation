{
  "nbformat": 4,
  "nbformat_minor": 0,
  "metadata": {
    "colab": {
      "name": "PMF.ipynb",
      "version": "0.3.2",
      "provenance": [],
      "include_colab_link": true
    },
    "kernelspec": {
      "name": "python3",
      "display_name": "Python 3"
    }
  },
  "cells": [
    {
      "cell_type": "markdown",
      "metadata": {
        "id": "view-in-github",
        "colab_type": "text"
      },
      "source": [
        "<a href=\"https://colab.research.google.com/github/mdriaz62/Combination_Permutation/blob/master/PMF.ipynb\" target=\"_parent\"><img src=\"https://colab.research.google.com/assets/colab-badge.svg\" alt=\"Open In Colab\"/></a>"
      ]
    },
    {
      "metadata": {
        "id": "57ogedvehXjt",
        "colab_type": "text"
      },
      "cell_type": "markdown",
      "source": [
        "# PMF (Probability Mass Function) Example\n",
        "Consider the number of siblings of students inside a classroom in Bilnet School and find the PMF (Probability Mass Function)."
      ]
    },
    {
      "metadata": {
        "id": "X443KVp4h0pN",
        "colab_type": "text"
      },
      "cell_type": "markdown",
      "source": [
        "#Solution\n",
        "The support of having sibling is, of course, 0, 1, 2, 3, ... Because the support contains a countably infinite number of possible values, it is a discrete random variable with a probability mass function. If the number of siblings equals X, we will find f(x) = P(X = x), the probability mass function of X, for all x in the support.\n",
        "To find the number of siblings inside a classroom, it is obvious to have statistical consideration. So, we suppose to have 50 students inside a classroom and gather information for being siblings."
      ]
    },
    {
      "metadata": {
        "id": "vSHfaR76iIMB",
        "colab_type": "text"
      },
      "cell_type": "markdown",
      "source": [
        "#Code for the Example"
      ]
    },
    {
      "metadata": {
        "id": "3aCwA-q1iMPu",
        "colab_type": "code",
        "colab": {
          "base_uri": "https://localhost:8080/",
          "height": 405
        },
        "outputId": "4279e4d7-2ebc-4bd6-e3f1-2083c9df20f7"
      },
      "cell_type": "code",
      "source": [
        "import math\n",
        "import numpy as np\n",
        "import matplotlib.pyplot as plt\n",
        "import pandas as pd\n",
        "siblings=np.random.randint(0, 6, 50);\n",
        "df=pd.DataFrame(siblings);\n",
        "data=pd.DataFrame(df[0].value_counts())\n",
        "data.columns=[\"Siblings\"]\n",
        "length=len(siblings);\n",
        "data[\"PMF\"]=data[\"Siblings\"]/length;\n",
        "print(\"Number of Students in the Class:\",length);\n",
        "print (data);\n",
        "plt.bar(data[\"Siblings\"],data[\"PMF\"]);"
      ],
      "execution_count": 36,
      "outputs": [
        {
          "output_type": "stream",
          "text": [
            "Number of Students in the Class: 50\n",
            "   Siblings   PMF\n",
            "4        13  0.26\n",
            "5        10  0.20\n",
            "3         8  0.16\n",
            "0         8  0.16\n",
            "1         7  0.14\n",
            "2         4  0.08\n"
          ],
          "name": "stdout"
        },
        {
          "output_type": "display_data",
          "data": {
            "image/png": "[encoded data removed]",
            "text/plain": [
              "<Figure size 432x288 with 1 Axes>"
            ]
          },
          "metadata": {
            "tags": []
          }
        }
      ]
    }
  ]
}