{
  "nbformat": 4,
  "nbformat_minor": 0,
  "metadata": {
    "colab": {
      "name": "PMF.ipynb",
      "version": "0.3.2",
      "provenance": [],
      "include_colab_link": true
    },
    "kernelspec": {
      "name": "python3",
      "display_name": "Python 3"
    }
  },
  "cells": [
    {
      "cell_type": "markdown",
      "metadata": {
        "id": "view-in-github",
        "colab_type": "text"
      },
      "source": [
        "<a href=\"https://colab.research.google.com/github/mdriaz62/Combination_Permutation/blob/master/PMF.ipynb\" target=\"_parent\"><img src=\"https://colab.research.google.com/assets/colab-badge.svg\" alt=\"Open In Colab\"/></a>"
      ]
    },
    {
      "metadata": {
        "id": "57ogedvehXjt",
        "colab_type": "text"
      },
      "cell_type": "markdown",
      "source": [
        "# PMF (Probability Mass Function) Example\n",
        "Let X equal the number of siblings of Bilnet School students. The support of X is, of course, 0, 1, 2, 3, ... Because the support contains a countably infinite number of possible values, X is a discrete random variable with a probability mass function. Find f(x) = P(X = x), the probability mass function of X, for all x in the support."
      ]
    },
    {
      "metadata": {
        "id": "X443KVp4h0pN",
        "colab_type": "text"
      },
      "cell_type": "markdown",
      "source": [
        "#Solution\n"
      ]
    },
    {
      "metadata": {
        "id": "vSHfaR76iIMB",
        "colab_type": "text"
      },
      "cell_type": "markdown",
      "source": [
        "#Code for the Example"
      ]
    },
    {
      "metadata": {
        "id": "3aCwA-q1iMPu",
        "colab_type": "code",
        "colab": {}
      },
      "cell_type": "code",
      "source": [
        "import math\n",
        "import numpy as np"
      ],
      "execution_count": 0,
      "outputs": []
    }
  ]
}