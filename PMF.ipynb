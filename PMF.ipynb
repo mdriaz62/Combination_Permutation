{
  "nbformat": 4,
  "nbformat_minor": 0,
  "metadata": {
    "colab": {
      "name": "PMF.ipynb",
      "version": "0.3.2",
      "provenance": [],
      "include_colab_link": true
    },
    "kernelspec": {
      "name": "python3",
      "display_name": "Python 3"
    }
  },
  "cells": [
    {
      "cell_type": "markdown",
      "metadata": {
        "id": "view-in-github",
        "colab_type": "text"
      },
      "source": [
        "<a href=\"https://colab.research.google.com/github/mdriaz62/Combination_Permutation/blob/master/PMF.ipynb\" target=\"_parent\"><img src=\"https://colab.research.google.com/assets/colab-badge.svg\" alt=\"Open In Colab\"/></a>"
      ]
    },
    {
      "cell_type": "markdown",
      "metadata": {
        "id": "57ogedvehXjt",
        "colab_type": "text"
      },
      "source": [
        "# PMF (Probability Mass Function) Example\n",
        "Consider the number of siblings of students inside a classroom in Bilnet School and find the PMF (Probability Mass Function)."
      ]
    },
    {
      "cell_type": "markdown",
      "metadata": {
        "id": "X443KVp4h0pN",
        "colab_type": "text"
      },
      "source": [
        "#Solution\n",
        "The support of having sibling is, of course, 0, 1, 2, 3, ... Because the support contains a countably infinite number of possible values, it is a discrete random variable with a probability mass function. If the number of siblings equals X, we will find f(x) = P(X = x), the probability mass function of X, for all x in the support.\n",
        "To find the number of siblings inside a classroom, it is obvious to have statistical consideration. So, we suppose to have 50 students inside a classroom and gather information of being siblings."
      ]
    },
    {
      "cell_type": "markdown",
      "metadata": {
        "id": "vSHfaR76iIMB",
        "colab_type": "text"
      },
      "source": [
        "#Code for the Example"
      ]
    },
    {
      "cell_type": "code",
      "metadata": {
        "id": "3aCwA-q1iMPu",
        "colab_type": "code",
        "outputId": "66a26b5b-4c52-429f-93b8-693d2dc82964",
        "colab": {
          "base_uri": "https://localhost:8080/",
          "height": 405
        }
      },
      "source": [
        "import math\n",
        "import numpy as np\n",
        "import matplotlib.pyplot as plt\n",
        "import pandas as pd\n",
        "siblings=np.random.randint(0, 6, 50);\n",
        "df=pd.DataFrame(siblings);\n",
        "data=pd.DataFrame(df[0].value_counts())\n",
        "data.columns=[\"Siblings\"]\n",
        "length=len(siblings);\n",
        "data[\"PMF\"]=data[\"Siblings\"]/length;\n",
        "print(\"Number of Students in the Class:\",length);\n",
        "print (data);\n",
        "plt.bar(data[\"Siblings\"],data[\"PMF\"]);"
      ],
      "execution_count": 2,
      "outputs": [
        {
          "output_type": "stream",
          "text": [
            "Number of Students in the Class: 50\n",
            "   Siblings   PMF\n",
            "5        10  0.20\n",
            "2        10  0.20\n",
            "4         9  0.18\n",
            "3         9  0.18\n",
            "0         7  0.14\n",
            "1         5  0.10\n"
          ],
          "name": "stdout"
        },
        {
          "output_type": "display_data",
          "data": {
            "image/png": "[encoded data removed]",
            "text/plain": [
              "<Figure size 432x288 with 1 Axes>"
            ]
          },
          "metadata": {
            "tags": []
          }
        }
      ]
    },
    {
      "cell_type": "markdown",
      "metadata": {
        "id": "wLhX8TSeOLPt",
        "colab_type": "text"
      },
      "source": [
        "## Similar Assumption\n",
        "If we select certain number of students being siblings we will have the PMF as below:"
      ]
    },
    {
      "cell_type": "code",
      "metadata": {
        "id": "GYPzbrxgKEBr",
        "colab_type": "code",
        "outputId": "a8b59fef-2343-475b-d9db-1f087aff8e5b",
        "colab": {
          "base_uri": "https://localhost:8080/",
          "height": 402
        }
      },
      "source": [
        "data={\"Siblings\":[\"Zero\",\"One\",\"Two\",\"Three\",\"Four\",\"Five\"],\"#Students\":[10,2,8,13,8,9]}\n",
        "df=pd.DataFrame(data);\n",
        "df[\"PMF\"]=df[\"#Students\"]/df[\"#Students\"].sum();\n",
        "print(df);\n",
        "plt.bar(df[\"Siblings\"],df[\"PMF\"]);\n",
        "plt.xlabel(\"Siblings\");\n",
        "plt.ylabel(\"Probability\");"
      ],
      "execution_count": 3,
      "outputs": [
        {
          "output_type": "stream",
          "text": [
            "  Siblings  #Students   PMF\n",
            "0     Zero         10  0.20\n",
            "1      One          2  0.04\n",
            "2      Two          8  0.16\n",
            "3    Three         13  0.26\n",
            "4     Four          8  0.16\n",
            "5     Five          9  0.18\n"
          ],
          "name": "stdout"
        },
        {
          "output_type": "display_data",
          "data": {
            "image/png": "[encoded data removed]",
            "text/plain": [
              "<Figure size 432x288 with 1 Axes>"
            ]
          },
          "metadata": {
            "tags": []
          }
        }
      ]
    }
  ]
}