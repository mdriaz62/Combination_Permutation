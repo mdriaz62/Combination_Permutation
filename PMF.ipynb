{
  "nbformat": 4,
  "nbformat_minor": 0,
  "metadata": {
    "colab": {
      "name": "PMF.ipynb",
      "version": "0.3.2",
      "provenance": [],
      "include_colab_link": true
    },
    "kernelspec": {
      "name": "python3",
      "display_name": "Python 3"
    }
  },
  "cells": [
    {
      "cell_type": "markdown",
      "metadata": {
        "id": "view-in-github",
        "colab_type": "text"
      },
      "source": [
        "<a href=\"https://colab.research.google.com/github/mdriaz62/Combination_Permutation/blob/master/PMF.ipynb\" target=\"_parent\"><img src=\"https://colab.research.google.com/assets/colab-badge.svg\" alt=\"Open In Colab\"/></a>"
      ]
    },
    {
      "metadata": {
        "id": "57ogedvehXjt",
        "colab_type": "text"
      },
      "cell_type": "markdown",
      "source": [
        "# PMF (Probability Mass Function) Example\n",
        "Consider the number of siblings of students inside a classroom in Bilnet School and find the PMF (Probability Mass Function)."
      ]
    },
    {
      "metadata": {
        "id": "X443KVp4h0pN",
        "colab_type": "text"
      },
      "cell_type": "markdown",
      "source": [
        "#Solution\n",
        "The support of having sibling is, of course, 0, 1, 2, 3, ... Because the support contains a countably infinite number of possible values, it is a discrete random variable with a probability mass function. If the number of siblings equals X, we will find f(x) = P(X = x), the probability mass function of X, for all x in the support.\n",
        "To find the number of siblings inside a classroom, it is obvious to have statistical consideration. So, we suppose to have 50 students inside a classroom and gather information for being siblings."
      ]
    },
    {
      "metadata": {
        "id": "vSHfaR76iIMB",
        "colab_type": "text"
      },
      "cell_type": "markdown",
      "source": [
        "#Code for the Example"
      ]
    },
    {
      "metadata": {
        "id": "3aCwA-q1iMPu",
        "colab_type": "code",
        "colab": {
          "base_uri": "https://localhost:8080/",
          "height": 405
        },
        "outputId": "97f2af00-bd86-4bad-b369-43ea1a9fb04f"
      },
      "cell_type": "code",
      "source": [
        "import math\n",
        "import numpy as np\n",
        "import matplotlib.pyplot as plt\n",
        "import pandas as pd\n",
        "siblings=np.random.randint(0, 6, 50);\n",
        "df=pd.DataFrame(siblings);\n",
        "data=pd.DataFrame(df[0].value_counts())\n",
        "data.columns=[\"Siblings\"]\n",
        "length=len(siblings);\n",
        "data[\"PMF\"]=data[\"Siblings\"]/length;\n",
        "print(\"Number of Students in the Class:\",length);\n",
        "print (data);\n",
        "plt.bar(data[\"Siblings\"],data[\"PMF\"]);"
      ],
      "execution_count": 1,
      "outputs": [
        {
          "output_type": "stream",
          "text": [
            "Number of Students in the Class: 50\n",
            "   Siblings   PMF\n",
            "3        13  0.26\n",
            "0        10  0.20\n",
            "5         9  0.18\n",
            "4         8  0.16\n",
            "2         8  0.16\n",
            "1         2  0.04\n"
          ],
          "name": "stdout"
        },
        {
          "output_type": "display_data",
          "data": {
            "image/png": "[encoded data removed]",
            "text/plain": [
              "<Figure size 432x288 with 1 Axes>"
            ]
          },
          "metadata": {
            "tags": []
          }
        }
      ]
    },
    {
      "metadata": {
        "id": "wLhX8TSeOLPt",
        "colab_type": "text"
      },
      "cell_type": "markdown",
      "source": [
        "## Similar Assumption\n",
        "If we select certain number of students being siblings we will have the PMF as below:"
      ]
    },
    {
      "metadata": {
        "id": "GYPzbrxgKEBr",
        "colab_type": "code",
        "colab": {
          "base_uri": "https://localhost:8080/",
          "height": 388
        },
        "outputId": "5cdbf4e5-ff18-4ca8-d388-1157083393ed"
      },
      "cell_type": "code",
      "source": [
        "data={\"Siblings\":[\"Zero\",\"One\",\"Two\",\"Three\",\"Four\",\"Five\"],\"#Students\":[10,2,8,13,8,9]}\n",
        "df=pd.DataFrame(data);\n",
        "df[\"PMF\"]=df[\"#Students\"]/df[\"#Students\"].sum();\n",
        "print(df);\n",
        "plt.bar(df[\"Siblings\"],df[\"PMF\"]);"
      ],
      "execution_count": 8,
      "outputs": [
        {
          "output_type": "stream",
          "text": [
            "  Siblings  #Students   PMF\n",
            "0     Zero         10  0.20\n",
            "1      One          2  0.04\n",
            "2      Two          8  0.16\n",
            "3    Three         13  0.26\n",
            "4     Four          8  0.16\n",
            "5     Five          9  0.18\n"
          ],
          "name": "stdout"
        },
        {
          "output_type": "display_data",
          "data": {
            "image/png": "[encoded data removed]",
            "text/plain": [
              "<Figure size 432x288 with 1 Axes>"
            ]
          },
          "metadata": {
            "tags": []
          }
        }
      ]
    }
  ]
}