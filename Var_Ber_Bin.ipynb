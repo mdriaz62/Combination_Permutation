{
  "nbformat": 4,
  "nbformat_minor": 0,
  "metadata": {
    "colab": {
      "name": "Var_Ber_Bin.ipynb",
      "version": "0.3.2",
      "provenance": [],
      "include_colab_link": true
    },
    "kernelspec": {
      "name": "python3",
      "display_name": "Python 3"
    }
  },
  "cells": [
    {
      "cell_type": "markdown",
      "metadata": {
        "id": "view-in-github",
        "colab_type": "text"
      },
      "source": [
        "<a href=\"https://colab.research.google.com/github/mdriaz62/Combination_Permutation/blob/master/Var_Ber_Bin.ipynb\" target=\"_parent\"><img src=\"https://colab.research.google.com/assets/colab-badge.svg\" alt=\"Open In Colab\"/></a>"
      ]
    },
    {
      "cell_type": "markdown",
      "metadata": {
        "id": "x6pSYSK8p2zz",
        "colab_type": "text"
      },
      "source": [
        "#Variance Example\n",
        "Consider the sleep hours of students in a classroom and find the variance.\n",
        "#Solution\n",
        "Suppose that there are 50 students in a classroom. The statistical data is gathered from the students regarding their sleep hours. The distribution and the variance are as follows."
      ]
    },
    {
      "cell_type": "code",
      "metadata": {
        "id": "MyKga5ZrqzLw",
        "colab_type": "code",
        "outputId": "c7f66d1b-4f34-428a-fa81-8db571a47dc1",
        "colab": {
          "base_uri": "https://localhost:8080/",
          "height": 453
        }
      },
      "source": [
        "import math\n",
        "import numpy as np\n",
        "import matplotlib.pyplot as plt\n",
        "import pandas as pd\n",
        "data={\"Sleep (Hours)\":[\"Three\",\"Four\",\"Five\",\"Six\",\"Seven\",\"Eight\",\"Nine\",\"Ten\"],\"#Students\":[2,3,5,13,8,10,7,2]}\n",
        "df=pd.DataFrame(data);\n",
        "total_student=sum(data[\"#Students\"]);\n",
        "print(\"Number of students in the class:\",total_student);\n",
        "print (df);\n",
        "plt.bar(data[\"Sleep (Hours)\"],data[\"#Students\"]);\n",
        "plt.xlabel(\"Sleep Hours\");\n",
        "plt.ylabel(\"Students\");"
      ],
      "execution_count": 0,
      "outputs": [
        {
          "output_type": "stream",
          "text": [
            "Number of students in the class: 50\n",
            "  Sleep (Hours)  #Students\n",
            "0         Three          2\n",
            "1          Four          3\n",
            "2          Five          5\n",
            "3           Six         13\n",
            "4         Seven          8\n",
            "5         Eight         10\n",
            "6          Nine          7\n",
            "7           Ten          2\n"
          ],
          "name": "stdout"
        },
        {
          "output_type": "display_data",
          "data": {
            "image/png": "[encoded data removed]",
            "text/plain": [
              "<Figure size 432x288 with 1 Axes>"
            ]
          },
          "metadata": {
            "tags": []
          }
        }
      ]
    },
    {
      "cell_type": "code",
      "metadata": {
        "id": "8CFRCAQtyBvY",
        "colab_type": "code",
        "outputId": "0105d8dc-b28f-45ce-a9bb-adcf308d9b94",
        "colab": {
          "base_uri": "https://localhost:8080/",
          "height": 85
        }
      },
      "source": [
        "import math\n",
        "import numpy as np\n",
        "sleep_hours=[3,4,5,6,7,8,9,10];\n",
        "students=[2,3,5,13,8,10,7,2];\n",
        "total_students=sum(students);\n",
        "probability=np.true_divide(students,total_students);\n",
        "multiplication=np.multiply(students,probability);\n",
        "E_x=sum(multiplication);\n",
        "E_x_x=np.square(E_x);\n",
        "square_students=np.square(students);\n",
        "multiplication_2=np.multiply(square_students,probability);\n",
        "E_x_2=sum(multiplication_2);\n",
        "var=(E_x_2-E_x_x);\n",
        "print(\"E[x]\", E_x);\n",
        "print(\"E[x]\\u00b2=\", E_x_x);\n",
        "print(\"E[x\\u00b2]=\", E_x_2);\n",
        "print(\"Var=\", var);\n"
      ],
      "execution_count": 3,
      "outputs": [
        {
          "output_type": "stream",
          "text": [
            "E[x] 8.48\n",
            "E[x]²= 71.91040000000001\n",
            "E[x²]= 84.4\n",
            "Var= 12.489599999999996\n"
          ],
          "name": "stdout"
        }
      ]
    },
    {
      "cell_type": "markdown",
      "metadata": {
        "id": "n85DnRuDoJVh",
        "colab_type": "text"
      },
      "source": [
        "#Bernoulli Example\n",
        "A Bernoulli trial is an experiment that has two possible outcomes, called success and failure. If the probability of success is p then the probability of failure is q = 1 − p.\n",
        "\n",
        "The probabilities of success and failure need not be equally likely, like the result of a fight between me and Undertaker. He is pretty much certain to win. So in this case probability of my success is 0.05 while my failure is 0.95.\n",
        "\n",
        "Here, the probability of success(p) is not same as the probability of failure. So, the chart below shows the Bernoulli Distribution of our fight.\n"
      ]
    },
    {
      "cell_type": "code",
      "metadata": {
        "id": "o7q7VfSxtYew",
        "colab_type": "code",
        "colab": {
          "base_uri": "https://localhost:8080/",
          "height": 269
        },
        "outputId": "1f9270a8-4a7e-4f3b-b066-c8a512500eea"
      },
      "source": [
        "import math\n",
        "import numpy as np\n",
        "import matplotlib.pyplot as plt\n",
        "data={\"Result\":[\"Success\",\"Failure\"],\"Probability\":[0.95,0.05]}\n",
        "plt.bar(data[\"Result\"],data[\"Probability\"]);"
      ],
      "execution_count": 4,
      "outputs": [
        {
          "output_type": "display_data",
          "data": {
            "image/png": "[encoded data removed]",
            "text/plain": [
              "<Figure size 432x288 with 1 Axes>"
            ]
          },
          "metadata": {
            "tags": []
          }
        }
      ]
    },
    {
      "cell_type": "markdown",
      "metadata": {
        "id": "7_MC4HVau7I_",
        "colab_type": "text"
      },
      "source": [
        "The variance for the example will look like below:"
      ]
    },
    {
      "cell_type": "code",
      "metadata": {
        "id": "NSJDEXq7vF3h",
        "colab_type": "code",
        "colab": {
          "base_uri": "https://localhost:8080/",
          "height": 85
        },
        "outputId": "acebf472-ab7a-43a1-fce9-2d9d44cfdd13"
      },
      "source": [
        "import math\n",
        "import numpy as np\n",
        "Probability=[0.95,0.05];\n",
        "Result=[1,0];\n",
        "multiplication=np.multiply(Result,Probability);\n",
        "E_x=sum(multiplication);\n",
        "E_x_x=np.square(E_x);\n",
        "square_result=np.square(Result);\n",
        "multiplication_2=np.multiply(square_result,Probability);\n",
        "E_x_2=sum(multiplication_2);\n",
        "var=(E_x_2-E_x_x);\n",
        "print(\"E[x]=\",E_x);\n",
        "print(\"E[x]\\u00b2=\", E_x_x);\n",
        "print(\"E[x\\u00b2]=\", E_x_2);\n",
        "print(\"Var=\", var);"
      ],
      "execution_count": 11,
      "outputs": [
        {
          "output_type": "stream",
          "text": [
            "E[x]= 0.95\n",
            "E[x]²= 0.9025\n",
            "E[x²]= 0.95\n",
            "Var= 0.04749999999999999\n"
          ],
          "name": "stdout"
        }
      ]
    },
    {
      "cell_type": "markdown",
      "metadata": {
        "id": "DMbETi1FyF7f",
        "colab_type": "text"
      },
      "source": [
        "#Binomial Example\n",
        "If we flip a coin 50 times and try to get 20 heads, what is the variance of binomial distribution?\n",
        "#Solution\n",
        "We are looking for the probability of getting exactly 20 heads in a sequence of 50 tosses. It means we are finding P(X=20).\n",
        "We know that the probability of getting a head is 50 percent (50%=0.5).\n",
        "\n",
        "\n",
        "\n",
        "```\n",
        "p(X = k) = C(n,k)p^k(1-p)^n-k\n",
        "```\n",
        "\n",
        "\n",
        "\n",
        "```\n",
        "p(X=20)=C(50,20)(0.5)^20(0.5)^30\n",
        "```"
      ]
    },
    {
      "cell_type": "code",
      "metadata": {
        "id": "4ZPwwEpU2EDZ",
        "colab_type": "code",
        "colab": {
          "base_uri": "https://localhost:8080/",
          "height": 68
        },
        "outputId": "3d7896f6-dc42-4790-d92b-e5dac33ada4c"
      },
      "source": [
        "import math\n",
        "import numpy as np\n",
        "p_1=0.5;\n",
        "n=50;\n",
        "k=20;\n",
        "f_n=math.factorial(n);\n",
        "f_k=math.factorial(k);\n",
        "f_n_k=math.factorial(n-k);\n",
        "p=((f_n)/(f_k*f_n_k))*(math.pow(p_1,(n-k)));\n",
        "E_x=n*p_1;\n",
        "var=n*p_1*(1-p_1);\n",
        "print(\"p(X=20)=\",p);\n",
        "print(\"E[x]=\",E_x);\n",
        "print(\"Var(X)=\",var);"
      ],
      "execution_count": 21,
      "outputs": [
        {
          "output_type": "stream",
          "text": [
            "p(X=20)= 43892.49928664416\n",
            "E[x]= 25.0\n",
            "Var(X)= 12.5\n"
          ],
          "name": "stdout"
        }
      ]
    }
  ]
}