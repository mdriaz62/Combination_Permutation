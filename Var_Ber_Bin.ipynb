{
  "nbformat": 4,
  "nbformat_minor": 0,
  "metadata": {
    "colab": {
      "name": "Var_Ber_Bin.ipynb",
      "version": "0.3.2",
      "provenance": [],
      "include_colab_link": true
    },
    "kernelspec": {
      "name": "python3",
      "display_name": "Python 3"
    }
  },
  "cells": [
    {
      "cell_type": "markdown",
      "metadata": {
        "id": "view-in-github",
        "colab_type": "text"
      },
      "source": [
        "<a href=\"https://colab.research.google.com/github/mdriaz62/Combination_Permutation/blob/master/Var_Ber_Bin.ipynb\" target=\"_parent\"><img src=\"https://colab.research.google.com/assets/colab-badge.svg\" alt=\"Open In Colab\"/></a>"
      ]
    },
    {
      "cell_type": "markdown",
      "metadata": {
        "id": "x6pSYSK8p2zz",
        "colab_type": "text"
      },
      "source": [
        "#Variance Example\n",
        "Consider the sleep hours of students in a classroom and find the variance.\n",
        "#Solution\n",
        "Suppose that there are 50 students in a classroom. The statistical data is gathered from the students regarding their sleep hours. The distribution and the variance are as follows."
      ]
    },
    {
      "cell_type": "code",
      "metadata": {
        "id": "MyKga5ZrqzLw",
        "colab_type": "code",
        "colab": {
          "base_uri": "https://localhost:8080/",
          "height": 453
        },
        "outputId": "c7f66d1b-4f34-428a-fa81-8db571a47dc1"
      },
      "source": [
        "import math\n",
        "import numpy as np\n",
        "import matplotlib.pyplot as plt\n",
        "import pandas as pd\n",
        "data={\"Sleep (Hours)\":[\"Three\",\"Four\",\"Five\",\"Six\",\"Seven\",\"Eight\",\"Nine\",\"Ten\"],\"#Students\":[2,3,5,13,8,10,7,2]}\n",
        "df=pd.DataFrame(data);\n",
        "total_student=sum(data[\"#Students\"]);\n",
        "print(\"Number of students in the class:\",total_student);\n",
        "print (df);\n",
        "plt.bar(data[\"Sleep (Hours)\"],data[\"#Students\"]);\n",
        "plt.xlabel(\"Sleep Hours\");\n",
        "plt.ylabel(\"Students\");"
      ],
      "execution_count": 12,
      "outputs": [
        {
          "output_type": "stream",
          "text": [
            "Number of students in the class: 50\n",
            "  Sleep (Hours)  #Students\n",
            "0         Three          2\n",
            "1          Four          3\n",
            "2          Five          5\n",
            "3           Six         13\n",
            "4         Seven          8\n",
            "5         Eight         10\n",
            "6          Nine          7\n",
            "7           Ten          2\n"
          ],
          "name": "stdout"
        },
        {
          "output_type": "display_data",
          "data": {
            "image/png": "[encoded data removed]",
            "text/plain": [
              "<Figure size 432x288 with 1 Axes>"
            ]
          },
          "metadata": {
            "tags": []
          }
        }
      ]
    },
    {
      "cell_type": "code",
      "metadata": {
        "id": "8CFRCAQtyBvY",
        "colab_type": "code",
        "colab": {
          "base_uri": "https://localhost:8080/",
          "height": 85
        },
        "outputId": "480d3433-b7e8-4112-8dd3-ee885483dc4e"
      },
      "source": [
        "import math\n",
        "import numpy as np\n",
        "import matplotlib.pyplot as plt\n",
        "sleep_hours=[3,4,5,6,7,8,9,10];\n",
        "students=[2,3,5,13,8,10,7,2];\n",
        "total_students=sum(students);\n",
        "probability=np.true_divide(students,total_students);\n",
        "multiplication=np.multiply(students,probability);\n",
        "E_x=sum(multiplication);\n",
        "E_x_x=np.square(E_x);\n",
        "square_students=np.square(students);\n",
        "multiplication_2=np.multiply(square_students,probability);\n",
        "E_x_2=sum(multiplication_2);\n",
        "var=(E_x_2-E_x_x);\n",
        "print(\"Probability:\", probability);\n",
        "print(\"E[x]=\", E_x_x);\n",
        "print(\"E[x]\\u00b2=\", E_x_2);\n",
        "print(\"Var=\", var);\n"
      ],
      "execution_count": 19,
      "outputs": [
        {
          "output_type": "stream",
          "text": [
            "Probability: [0.04 0.06 0.1  0.26 0.16 0.2  0.14 0.04]\n",
            "E[x]= 71.91040000000001\n",
            "E[x]²= 84.4\n",
            "Var= 12.489599999999996\n"
          ],
          "name": "stdout"
        }
      ]
    }
  ]
}